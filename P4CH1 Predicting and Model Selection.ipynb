{
 "cells": [
  {
   "cell_type": "markdown",
   "metadata": {},
   "source": [
    "# Predicting & Model Selection\n",
    "\n",
    "In this notebook we work on the problem of **overfitting** using the Ozone dataset.\n",
    "\n",
    "Let's import the packages and load the dataset into a pandas dataframe\n",
    "\n",
    "\n"
   ]
  },
  {
   "cell_type": "code",
   "execution_count": 2,
   "metadata": {},
   "outputs": [],
   "source": [
    "\n",
    "import pandas as pd\n",
    "import numpy as np\n",
    "import statsmodels.formula.api as smf\n",
    "\n",
    "import matplotlib.pyplot as plt\n",
    "import seaborn as sns\n",
    "\n",
    "df = pd.read_csv('./data/ozone.csv')\n"
   ]
  },
  {
   "cell_type": "markdown",
   "metadata": {},
   "source": [
    "As before we remove the samples with missing values and rename some of the columns\n"
   ]
  },
  {
   "cell_type": "code",
   "execution_count": 3,
   "metadata": {},
   "outputs": [
    {
     "data": {
      "text/html": [
       "<div>\n",
       "<style scoped>\n",
       "    .dataframe tbody tr th:only-of-type {\n",
       "        vertical-align: middle;\n",
       "    }\n",
       "\n",
       "    .dataframe tbody tr th {\n",
       "        vertical-align: top;\n",
       "    }\n",
       "\n",
       "    .dataframe thead th {\n",
       "        text-align: right;\n",
       "    }\n",
       "</style>\n",
       "<table border=\"1\" class=\"dataframe\">\n",
       "  <thead>\n",
       "    <tr style=\"text-align: right;\">\n",
       "      <th></th>\n",
       "      <th>Ozone</th>\n",
       "      <th>Solar</th>\n",
       "      <th>Wind</th>\n",
       "      <th>Temp</th>\n",
       "    </tr>\n",
       "  </thead>\n",
       "  <tbody>\n",
       "    <tr>\n",
       "      <th>0</th>\n",
       "      <td>41.0</td>\n",
       "      <td>190.0</td>\n",
       "      <td>7.4</td>\n",
       "      <td>67</td>\n",
       "    </tr>\n",
       "    <tr>\n",
       "      <th>1</th>\n",
       "      <td>36.0</td>\n",
       "      <td>118.0</td>\n",
       "      <td>8.0</td>\n",
       "      <td>72</td>\n",
       "    </tr>\n",
       "    <tr>\n",
       "      <th>2</th>\n",
       "      <td>12.0</td>\n",
       "      <td>149.0</td>\n",
       "      <td>12.6</td>\n",
       "      <td>74</td>\n",
       "    </tr>\n",
       "    <tr>\n",
       "      <th>3</th>\n",
       "      <td>18.0</td>\n",
       "      <td>313.0</td>\n",
       "      <td>11.5</td>\n",
       "      <td>62</td>\n",
       "    </tr>\n",
       "    <tr>\n",
       "      <th>6</th>\n",
       "      <td>23.0</td>\n",
       "      <td>299.0</td>\n",
       "      <td>8.6</td>\n",
       "      <td>65</td>\n",
       "    </tr>\n",
       "  </tbody>\n",
       "</table>\n",
       "</div>"
      ],
      "text/plain": [
       "   Ozone  Solar  Wind  Temp\n",
       "0   41.0  190.0   7.4    67\n",
       "1   36.0  118.0   8.0    72\n",
       "2   12.0  149.0  12.6    74\n",
       "3   18.0  313.0  11.5    62\n",
       "6   23.0  299.0   8.6    65"
      ]
     },
     "execution_count": 3,
     "metadata": {},
     "output_type": "execute_result"
    }
   ],
   "source": [
    "# drop samples with missing values\n",
    "df.dropna(inplace = True)\n",
    "# drop Day and Month columns\n",
    "df= df.drop(columns = ['Day', 'Month'])\n",
    "# rename Solar.R as Solar\n",
    "df = df.rename(columns = {'Solar.R': 'Solar'})\n",
    "\n",
    "df.head()\n"
   ]
  },
  {
   "cell_type": "markdown",
   "metadata": {},
   "source": [
    "We also build 2 new variables,  square of Wind and square of Temp."
   ]
  },
  {
   "cell_type": "code",
   "execution_count": 4,
   "metadata": {},
   "outputs": [],
   "source": [
    "df['Wind2'] = np.square(df['Wind'])\n",
    "df['Temp2'] = np.square(df['Temp'])\n",
    "\n"
   ]
  },
  {
   "cell_type": "markdown",
   "metadata": {},
   "source": [
    "Let's first define a new metric called RMSE for root mean square error\n",
    "that takes as input the residuals of a model\n",
    "and which is defined as such."
   ]
  },
  {
   "cell_type": "code",
   "execution_count": 5,
   "metadata": {},
   "outputs": [],
   "source": [
    "def RMSE(resid):\n",
    "    return np.sqrt(np.square(resid).sum()) / len(resid)\n"
   ]
  },
  {
   "cell_type": "markdown",
   "metadata": {},
   "source": [
    "The RMSE measures the distance between the fitted values given by the model and the real values of the outcome variable.\n",
    "\n",
    "The lower the RMSE the better.\n",
    "\n",
    "Let's now build a series of increasingly complex models, that we store into a list of formulas :\n"
   ]
  },
  {
   "cell_type": "code",
   "execution_count": 6,
   "metadata": {},
   "outputs": [],
   "source": [
    "formulas = ['Ozone ~ Temp',\n",
    "'Ozone ~ Wind',\n",
    "'Ozone ~ Temp + Temp2',\n",
    "'Ozone ~ Wind + Wind2',\n",
    "'Ozone ~ Temp + Wind + Solar',\n",
    "'Ozone ~ Temp + Temp2 + Wind + Wind2 + Solar'\n",
    "]\n"
   ]
  },
  {
   "cell_type": "markdown",
   "metadata": {},
   "source": [
    "We can loop through each formula, creating and fitting each associated model.\n",
    "\n",
    "For each model we store the R-squared and the RMSE.\n"
   ]
  },
  {
   "cell_type": "code",
   "execution_count": 7,
   "metadata": {},
   "outputs": [],
   "source": [
    "scores = []\n",
    "for formula in formulas:\n",
    "    results = smf.ols(formula, df).fit()\n",
    "    scores.append( { 'model': formula,\n",
    "        'RMSE':RMSE(results.resid),\n",
    "        'R-squared': results.rsquared}\n",
    "    )\n",
    "\n",
    "scores = pd.DataFrame(scores)\n"
   ]
  },
  {
   "cell_type": "markdown",
   "metadata": {},
   "source": [
    "And we see that the more complex the model the better the RMSE and the R-squared\n"
   ]
  },
  {
   "cell_type": "code",
   "execution_count": 8,
   "metadata": {},
   "outputs": [
    {
     "name": "stdout",
     "output_type": "stream",
     "text": [
      "   R-squared      RMSE                                        model\n",
      "0   0.712308  1.686430  Ozone ~ Temp + Temp2 + Wind + Wind2 + Solar\n",
      "1   0.605895  1.973832                  Ozone ~ Temp + Wind + Solar\n",
      "2   0.542627  2.126373                         Ozone ~ Temp + Temp2\n",
      "3   0.505481  2.211034                         Ozone ~ Wind + Wind2\n",
      "4   0.487960  2.249862                                 Ozone ~ Temp\n",
      "5   0.375152  2.485371                                 Ozone ~ Wind\n"
     ]
    }
   ],
   "source": [
    "print(scores.sort_values(by = 'RMSE').reset_index(drop = True))\n"
   ]
  },
  {
   "cell_type": "markdown",
   "metadata": {},
   "source": [
    "But that does not tell us which model is too complex and is actually overfitting the data.\n",
    "\n",
    "\n",
    "## Cross-validation\n",
    "\n",
    "For that we need to split the dataset into a train and a test subset,\n",
    "use the train subset to fit the model and evaluate its performance on the test subset.\n",
    "\n",
    "\n",
    "This technique is called **cross validation**\n",
    "\n",
    "Let's first create the train and test subsets\n",
    "by taking 70% of the samples for the train subset\n",
    "and the remaining 30% for the test subset\n"
   ]
  },
  {
   "cell_type": "code",
   "execution_count": 9,
   "metadata": {},
   "outputs": [],
   "source": [
    "# take a random sample of 70% of the dataframe\n",
    "np.random.seed(8)\n",
    "train_index = df.sample(frac = 0.7).index\n",
    "# create the train and test subset\n",
    "train = df.loc[df.index.isin(train_index)]\n",
    "test = df.loc[~df.index.isin(train_index)]\n",
    "\n"
   ]
  },
  {
   "cell_type": "markdown",
   "metadata": {},
   "source": [
    "next we're going to compare the models,\n",
    "by fitting them on the **train** subset\n",
    "and calculating the RMSE on the **test** subset\n",
    "\n",
    "For comparison purposes we also calculate the RMSE on the train subset.\n"
   ]
  },
  {
   "cell_type": "code",
   "execution_count": 10,
   "metadata": {},
   "outputs": [
    {
     "data": {
      "text/html": [
       "<div>\n",
       "<style scoped>\n",
       "    .dataframe tbody tr th:only-of-type {\n",
       "        vertical-align: middle;\n",
       "    }\n",
       "\n",
       "    .dataframe tbody tr th {\n",
       "        vertical-align: top;\n",
       "    }\n",
       "\n",
       "    .dataframe thead th {\n",
       "        text-align: right;\n",
       "    }\n",
       "</style>\n",
       "<table border=\"1\" class=\"dataframe\">\n",
       "  <thead>\n",
       "    <tr style=\"text-align: right;\">\n",
       "      <th></th>\n",
       "      <th>R-squared</th>\n",
       "      <th>RMSE_test</th>\n",
       "      <th>RMSE_train</th>\n",
       "      <th>model</th>\n",
       "    </tr>\n",
       "  </thead>\n",
       "  <tbody>\n",
       "    <tr>\n",
       "      <th>0</th>\n",
       "      <td>0.486604</td>\n",
       "      <td>3.747403</td>\n",
       "      <td>2.826150</td>\n",
       "      <td>Ozone ~ Temp</td>\n",
       "    </tr>\n",
       "    <tr>\n",
       "      <th>1</th>\n",
       "      <td>0.406033</td>\n",
       "      <td>4.399999</td>\n",
       "      <td>3.039835</td>\n",
       "      <td>Ozone ~ Wind</td>\n",
       "    </tr>\n",
       "    <tr>\n",
       "      <th>2</th>\n",
       "      <td>0.521180</td>\n",
       "      <td>3.320133</td>\n",
       "      <td>2.729323</td>\n",
       "      <td>Ozone ~ Temp + Temp2</td>\n",
       "    </tr>\n",
       "    <tr>\n",
       "      <th>3</th>\n",
       "      <td>0.569732</td>\n",
       "      <td>4.379300</td>\n",
       "      <td>2.587252</td>\n",
       "      <td>Ozone ~ Wind + Wind2</td>\n",
       "    </tr>\n",
       "    <tr>\n",
       "      <th>4</th>\n",
       "      <td>0.632311</td>\n",
       "      <td>3.681170</td>\n",
       "      <td>2.391714</td>\n",
       "      <td>Ozone ~ Temp + Wind + Solar</td>\n",
       "    </tr>\n",
       "    <tr>\n",
       "      <th>5</th>\n",
       "      <td>0.755576</td>\n",
       "      <td>3.577426</td>\n",
       "      <td>1.950028</td>\n",
       "      <td>Ozone ~ Temp + Temp2 + Wind + Wind2 + Solar</td>\n",
       "    </tr>\n",
       "  </tbody>\n",
       "</table>\n",
       "</div>"
      ],
      "text/plain": [
       "   R-squared  RMSE_test  RMSE_train  \\\n",
       "0   0.486604   3.747403    2.826150   \n",
       "1   0.406033   4.399999    3.039835   \n",
       "2   0.521180   3.320133    2.729323   \n",
       "3   0.569732   4.379300    2.587252   \n",
       "4   0.632311   3.681170    2.391714   \n",
       "5   0.755576   3.577426    1.950028   \n",
       "\n",
       "                                         model  \n",
       "0                                 Ozone ~ Temp  \n",
       "1                                 Ozone ~ Wind  \n",
       "2                         Ozone ~ Temp + Temp2  \n",
       "3                         Ozone ~ Wind + Wind2  \n",
       "4                  Ozone ~ Temp + Wind + Solar  \n",
       "5  Ozone ~ Temp + Temp2 + Wind + Wind2 + Solar  "
      ]
     },
     "execution_count": 10,
     "metadata": {},
     "output_type": "execute_result"
    }
   ],
   "source": [
    "scores = []\n",
    "for formula in formulas:\n",
    "    results = smf.ols(formula, train).fit()\n",
    "    yhat = results.predict(test)\n",
    "    resid_test = yhat - test.Ozone\n",
    "    scores.append( { 'model': formula,\n",
    "        'RMSE_test':RMSE(resid_test),\n",
    "        'RMSE_train':RMSE(results.resid),\n",
    "        'R-squared': results.rsquared}\n",
    "    )\n",
    "\n",
    "scores = pd.DataFrame(scores)\n",
    "\n",
    "scores\n"
   ]
  },
  {
   "cell_type": "markdown",
   "metadata": {},
   "source": [
    "The following plot shows the RMSE on the train and on the test subsets\n"
   ]
  },
  {
   "cell_type": "code",
   "execution_count": 12,
   "metadata": {},
   "outputs": [
    {
     "data": {
      "text/plain": [
       "<matplotlib.legend.Legend at 0x11c196898>"
      ]
     },
     "execution_count": 12,
     "metadata": {},
     "output_type": "execute_result"
    },
    {
     "data": {
      "image/png": "[encoded data removed]",
      "text/plain": [
       "<Figure size 432x288 with 1 Axes>"
      ]
     },
     "metadata": {
      "needs_background": "light"
     },
     "output_type": "display_data"
    }
   ],
   "source": [
    "plt.scatter(scores.index, scores.RMSE_train, label = 'train'  )\n",
    "plt.scatter(scores.index, scores.RMSE_test, label = 'test'  )\n",
    "plt.grid(alpha = 0.3)\n",
    "sns.despine()\n",
    "plt.legend()\n"
   ]
  },
  {
   "cell_type": "markdown",
   "metadata": {},
   "source": [
    "We see that the train RMSE tends to get lower and lower\n",
    "as the model complexity increases\n",
    "but this not always the case for the test RMSE.\n",
    "\n",
    "The test RMSE is a good indicator of the capacity of the model\n",
    "to handle new unseen data,\n",
    "or in other words, to be able to make predictions on new data.\n",
    "\n",
    "However, this relative performance of the model\n",
    "is highly dependent on the way\n",
    "we split the data into a train and test set\n",
    "if we set another seed value we will get a different RMSE graph.\n",
    "\n"
   ]
  },
  {
   "cell_type": "code",
   "execution_count": 14,
   "metadata": {},
   "outputs": [
    {
     "data": {
      "text/plain": [
       "<matplotlib.legend.Legend at 0x11c3c7438>"
      ]
     },
     "execution_count": 14,
     "metadata": {},
     "output_type": "execute_result"
    },
    {
     "data": {
      "image/png": "[encoded data removed]",
      "text/plain": [
       "<Figure size 432x288 with 1 Axes>"
      ]
     },
     "metadata": {
      "needs_background": "light"
     },
     "output_type": "display_data"
    }
   ],
   "source": [
    "# Same code, different seed\n",
    "np.random.seed(43)\n",
    "train_index = df.sample(frac = 0.7).index\n",
    "# create the train and test subset\n",
    "train = df.loc[df.index.isin(train_index)]\n",
    "test = df.loc[~df.index.isin(train_index)]\n",
    "\n",
    "scores = []\n",
    "for formula in formulas:\n",
    "    results = smf.ols(formula, train).fit()\n",
    "    yhat = results.predict(test)\n",
    "    resid_test = yhat - test.Ozone\n",
    "    scores.append( { 'model': formula,\n",
    "        'RMSE_test':RMSE(resid_test),\n",
    "        'RMSE_train':RMSE(results.resid),\n",
    "        'R-squared': results.rsquared}\n",
    "    )\n",
    "\n",
    "scores = pd.DataFrame(scores)\n",
    "\n",
    "plt.scatter(scores.index, scores.RMSE_train, label = 'train'  )\n",
    "plt.scatter(scores.index, scores.RMSE_test, label = 'test'  )\n",
    "plt.grid(alpha = 0.3)\n",
    "sns.despine()\n",
    "plt.legend()\n"
   ]
  },
  {
   "cell_type": "markdown",
   "metadata": {},
   "source": [
    "With a seed of 43 instead of 8, the best performing model in the test is no longer model #2 but model #5"
   ]
  },
  {
   "cell_type": "markdown",
   "metadata": {},
   "source": [
    "\n",
    "## K fold cross validation\n",
    "To overcome this dependency on the initialization,\n",
    "we split the dataset into a train and test subset **several times**,\n",
    "each time we fit a model and calculate a new RMSE on the test subset\n",
    "and we average the test RMSE results.\n",
    "\n",
    "This will give us a more stable way to assess the predicting power of the model.\n",
    "\n",
    "This technique is called K fold cross validation.\n",
    "\n",
    "\n",
    "Let's implement K fold cross validation for 4 folds.\n"
   ]
  },
  {
   "cell_type": "code",
   "execution_count": 16,
   "metadata": {},
   "outputs": [],
   "source": [
    "K = 4"
   ]
  },
  {
   "cell_type": "markdown",
   "metadata": {},
   "source": [
    "Let's randomize the data and split it in 4 parts of equal length.\n",
    "\n",
    "We will use each chunk in turn as the test subset\n",
    "and the remaining three chunks for the training subset.\n"
   ]
  },
  {
   "cell_type": "code",
   "execution_count": 27,
   "metadata": {},
   "outputs": [
    {
     "data": {
      "text/html": [
       "<div>\n",
       "<style scoped>\n",
       "    .dataframe tbody tr th:only-of-type {\n",
       "        vertical-align: middle;\n",
       "    }\n",
       "\n",
       "    .dataframe tbody tr th {\n",
       "        vertical-align: top;\n",
       "    }\n",
       "\n",
       "    .dataframe thead th {\n",
       "        text-align: right;\n",
       "    }\n",
       "</style>\n",
       "<table border=\"1\" class=\"dataframe\">\n",
       "  <thead>\n",
       "    <tr style=\"text-align: right;\">\n",
       "      <th></th>\n",
       "      <th>RMSE_test</th>\n",
       "      <th>RMSE_train</th>\n",
       "      <th>model</th>\n",
       "    </tr>\n",
       "  </thead>\n",
       "  <tbody>\n",
       "    <tr>\n",
       "      <th>0</th>\n",
       "      <td>2.973519</td>\n",
       "      <td>2.840518</td>\n",
       "      <td>Ozone ~ Temp</td>\n",
       "    </tr>\n",
       "    <tr>\n",
       "      <th>1</th>\n",
       "      <td>4.765688</td>\n",
       "      <td>2.546130</td>\n",
       "      <td>Ozone ~ Temp</td>\n",
       "    </tr>\n",
       "    <tr>\n",
       "      <th>2</th>\n",
       "      <td>5.662473</td>\n",
       "      <td>2.332073</td>\n",
       "      <td>Ozone ~ Temp</td>\n",
       "    </tr>\n",
       "    <tr>\n",
       "      <th>3</th>\n",
       "      <td>4.294425</td>\n",
       "      <td>2.634962</td>\n",
       "      <td>Ozone ~ Temp</td>\n",
       "    </tr>\n",
       "    <tr>\n",
       "      <th>4</th>\n",
       "      <td>4.982281</td>\n",
       "      <td>2.891067</td>\n",
       "      <td>Ozone ~ Wind</td>\n",
       "    </tr>\n",
       "    <tr>\n",
       "      <th>5</th>\n",
       "      <td>5.070457</td>\n",
       "      <td>2.863245</td>\n",
       "      <td>Ozone ~ Wind</td>\n",
       "    </tr>\n",
       "    <tr>\n",
       "      <th>6</th>\n",
       "      <td>5.600313</td>\n",
       "      <td>2.737009</td>\n",
       "      <td>Ozone ~ Wind</td>\n",
       "    </tr>\n",
       "    <tr>\n",
       "      <th>7</th>\n",
       "      <td>4.484412</td>\n",
       "      <td>2.951415</td>\n",
       "      <td>Ozone ~ Wind</td>\n",
       "    </tr>\n",
       "    <tr>\n",
       "      <th>8</th>\n",
       "      <td>2.470494</td>\n",
       "      <td>2.722656</td>\n",
       "      <td>Ozone ~ Temp + Temp2</td>\n",
       "    </tr>\n",
       "    <tr>\n",
       "      <th>9</th>\n",
       "      <td>4.528882</td>\n",
       "      <td>2.399559</td>\n",
       "      <td>Ozone ~ Temp + Temp2</td>\n",
       "    </tr>\n",
       "    <tr>\n",
       "      <th>10</th>\n",
       "      <td>5.425321</td>\n",
       "      <td>2.181723</td>\n",
       "      <td>Ozone ~ Temp + Temp2</td>\n",
       "    </tr>\n",
       "    <tr>\n",
       "      <th>11</th>\n",
       "      <td>4.121824</td>\n",
       "      <td>2.478146</td>\n",
       "      <td>Ozone ~ Temp + Temp2</td>\n",
       "    </tr>\n",
       "    <tr>\n",
       "      <th>12</th>\n",
       "      <td>4.033877</td>\n",
       "      <td>2.636888</td>\n",
       "      <td>Ozone ~ Wind + Wind2</td>\n",
       "    </tr>\n",
       "    <tr>\n",
       "      <th>13</th>\n",
       "      <td>4.522828</td>\n",
       "      <td>2.540720</td>\n",
       "      <td>Ozone ~ Wind + Wind2</td>\n",
       "    </tr>\n",
       "    <tr>\n",
       "      <th>14</th>\n",
       "      <td>4.887153</td>\n",
       "      <td>2.464227</td>\n",
       "      <td>Ozone ~ Wind + Wind2</td>\n",
       "    </tr>\n",
       "    <tr>\n",
       "      <th>15</th>\n",
       "      <td>4.662561</td>\n",
       "      <td>2.530634</td>\n",
       "      <td>Ozone ~ Wind + Wind2</td>\n",
       "    </tr>\n",
       "    <tr>\n",
       "      <th>16</th>\n",
       "      <td>3.238050</td>\n",
       "      <td>2.425286</td>\n",
       "      <td>Ozone ~ Temp + Wind + Solar</td>\n",
       "    </tr>\n",
       "    <tr>\n",
       "      <th>17</th>\n",
       "      <td>3.728417</td>\n",
       "      <td>2.344226</td>\n",
       "      <td>Ozone ~ Temp + Wind + Solar</td>\n",
       "    </tr>\n",
       "    <tr>\n",
       "      <th>18</th>\n",
       "      <td>5.219301</td>\n",
       "      <td>1.980439</td>\n",
       "      <td>Ozone ~ Temp + Wind + Solar</td>\n",
       "    </tr>\n",
       "    <tr>\n",
       "      <th>19</th>\n",
       "      <td>3.898360</td>\n",
       "      <td>2.293797</td>\n",
       "      <td>Ozone ~ Temp + Wind + Solar</td>\n",
       "    </tr>\n",
       "    <tr>\n",
       "      <th>20</th>\n",
       "      <td>2.516673</td>\n",
       "      <td>2.101034</td>\n",
       "      <td>Ozone ~ Temp + Temp2 + Wind + Wind2 + Solar</td>\n",
       "    </tr>\n",
       "    <tr>\n",
       "      <th>21</th>\n",
       "      <td>3.125839</td>\n",
       "      <td>1.999365</td>\n",
       "      <td>Ozone ~ Temp + Temp2 + Wind + Wind2 + Solar</td>\n",
       "    </tr>\n",
       "    <tr>\n",
       "      <th>22</th>\n",
       "      <td>4.467500</td>\n",
       "      <td>1.699106</td>\n",
       "      <td>Ozone ~ Temp + Temp2 + Wind + Wind2 + Solar</td>\n",
       "    </tr>\n",
       "    <tr>\n",
       "      <th>23</th>\n",
       "      <td>3.534386</td>\n",
       "      <td>1.929720</td>\n",
       "      <td>Ozone ~ Temp + Temp2 + Wind + Wind2 + Solar</td>\n",
       "    </tr>\n",
       "  </tbody>\n",
       "</table>\n",
       "</div>"
      ],
      "text/plain": [
       "    RMSE_test  RMSE_train                                        model\n",
       "0    2.973519    2.840518                                 Ozone ~ Temp\n",
       "1    4.765688    2.546130                                 Ozone ~ Temp\n",
       "2    5.662473    2.332073                                 Ozone ~ Temp\n",
       "3    4.294425    2.634962                                 Ozone ~ Temp\n",
       "4    4.982281    2.891067                                 Ozone ~ Wind\n",
       "5    5.070457    2.863245                                 Ozone ~ Wind\n",
       "6    5.600313    2.737009                                 Ozone ~ Wind\n",
       "7    4.484412    2.951415                                 Ozone ~ Wind\n",
       "8    2.470494    2.722656                         Ozone ~ Temp + Temp2\n",
       "9    4.528882    2.399559                         Ozone ~ Temp + Temp2\n",
       "10   5.425321    2.181723                         Ozone ~ Temp + Temp2\n",
       "11   4.121824    2.478146                         Ozone ~ Temp + Temp2\n",
       "12   4.033877    2.636888                         Ozone ~ Wind + Wind2\n",
       "13   4.522828    2.540720                         Ozone ~ Wind + Wind2\n",
       "14   4.887153    2.464227                         Ozone ~ Wind + Wind2\n",
       "15   4.662561    2.530634                         Ozone ~ Wind + Wind2\n",
       "16   3.238050    2.425286                  Ozone ~ Temp + Wind + Solar\n",
       "17   3.728417    2.344226                  Ozone ~ Temp + Wind + Solar\n",
       "18   5.219301    1.980439                  Ozone ~ Temp + Wind + Solar\n",
       "19   3.898360    2.293797                  Ozone ~ Temp + Wind + Solar\n",
       "20   2.516673    2.101034  Ozone ~ Temp + Temp2 + Wind + Wind2 + Solar\n",
       "21   3.125839    1.999365  Ozone ~ Temp + Temp2 + Wind + Wind2 + Solar\n",
       "22   4.467500    1.699106  Ozone ~ Temp + Temp2 + Wind + Wind2 + Solar\n",
       "23   3.534386    1.929720  Ozone ~ Temp + Temp2 + Wind + Wind2 + Solar"
      ]
     },
     "execution_count": 27,
     "metadata": {},
     "output_type": "execute_result"
    }
   ],
   "source": [
    "np.random.seed(8)\n",
    "\n",
    "df = df.sample(frac = 1)\n",
    "indexes = np.array_split(list(df.index),K)\n",
    "\n",
    "\n",
    "scores = []\n",
    "\n",
    "for formula in formulas:\n",
    "    for i in range(K):\n",
    "        test_index  = indexes[i]\n",
    "        train_index = [idx for idx in list(df.index) if idx not in test_index]\n",
    "        train = df.loc[df.index.isin(train_index)]\n",
    "        test  = df.loc[~df.index.isin(train_index)]\n",
    "\n",
    "        results = smf.ols(formula, train).fit()\n",
    "        yhat    = results.predict(test)\n",
    "        resid_test = yhat - test.Ozone\n",
    "\n",
    "        scores.append( {\n",
    "            'model': formula,\n",
    "            'RMSE_test':RMSE(resid_test),\n",
    "            'RMSE_train':RMSE(results.resid)\n",
    "        })\n",
    "\n",
    "scores = pd.DataFrame(scores)\n",
    "scores\n"
   ]
  },
  {
   "cell_type": "markdown",
   "metadata": {},
   "source": [
    "Finally let's calculate the average RMSE obtained per model"
   ]
  },
  {
   "cell_type": "code",
   "execution_count": 28,
   "metadata": {},
   "outputs": [
    {
     "data": {
      "text/html": [
       "<div>\n",
       "<style scoped>\n",
       "    .dataframe tbody tr th:only-of-type {\n",
       "        vertical-align: middle;\n",
       "    }\n",
       "\n",
       "    .dataframe tbody tr th {\n",
       "        vertical-align: top;\n",
       "    }\n",
       "\n",
       "    .dataframe thead th {\n",
       "        text-align: right;\n",
       "    }\n",
       "</style>\n",
       "<table border=\"1\" class=\"dataframe\">\n",
       "  <thead>\n",
       "    <tr style=\"text-align: right;\">\n",
       "      <th></th>\n",
       "      <th>model</th>\n",
       "      <th>RMSE_test</th>\n",
       "      <th>RMSE_train</th>\n",
       "    </tr>\n",
       "  </thead>\n",
       "  <tbody>\n",
       "    <tr>\n",
       "      <th>0</th>\n",
       "      <td>Ozone ~ Temp</td>\n",
       "      <td>4.424026</td>\n",
       "      <td>2.588421</td>\n",
       "    </tr>\n",
       "    <tr>\n",
       "      <th>1</th>\n",
       "      <td>Ozone ~ Temp + Temp2</td>\n",
       "      <td>4.136630</td>\n",
       "      <td>2.445521</td>\n",
       "    </tr>\n",
       "    <tr>\n",
       "      <th>2</th>\n",
       "      <td>Ozone ~ Temp + Temp2 + Wind + Wind2 + Solar</td>\n",
       "      <td>3.411099</td>\n",
       "      <td>1.932306</td>\n",
       "    </tr>\n",
       "    <tr>\n",
       "      <th>3</th>\n",
       "      <td>Ozone ~ Temp + Wind + Solar</td>\n",
       "      <td>4.021032</td>\n",
       "      <td>2.260937</td>\n",
       "    </tr>\n",
       "    <tr>\n",
       "      <th>4</th>\n",
       "      <td>Ozone ~ Wind</td>\n",
       "      <td>5.034366</td>\n",
       "      <td>2.860684</td>\n",
       "    </tr>\n",
       "    <tr>\n",
       "      <th>5</th>\n",
       "      <td>Ozone ~ Wind + Wind2</td>\n",
       "      <td>4.526605</td>\n",
       "      <td>2.543117</td>\n",
       "    </tr>\n",
       "  </tbody>\n",
       "</table>\n",
       "</div>"
      ],
      "text/plain": [
       "                                         model  RMSE_test  RMSE_train\n",
       "0                                 Ozone ~ Temp   4.424026    2.588421\n",
       "1                         Ozone ~ Temp + Temp2   4.136630    2.445521\n",
       "2  Ozone ~ Temp + Temp2 + Wind + Wind2 + Solar   3.411099    1.932306\n",
       "3                  Ozone ~ Temp + Wind + Solar   4.021032    2.260937\n",
       "4                                 Ozone ~ Wind   5.034366    2.860684\n",
       "5                         Ozone ~ Wind + Wind2   4.526605    2.543117"
      ]
     },
     "execution_count": 28,
     "metadata": {},
     "output_type": "execute_result"
    }
   ],
   "source": [
    "scores = scores.groupby(by = 'model').mean().reset_index()\n",
    "\n",
    "scores"
   ]
  },
  {
   "cell_type": "markdown",
   "metadata": {},
   "source": [
    "Comparing the train and test RMSE for the different models\n"
   ]
  },
  {
   "cell_type": "code",
   "execution_count": 29,
   "metadata": {},
   "outputs": [
    {
     "data": {
      "text/plain": [
       "<matplotlib.legend.Legend at 0x11c8706d8>"
      ]
     },
     "execution_count": 29,
     "metadata": {},
     "output_type": "execute_result"
    },
    {
     "data": {
      "image/png": "[encoded data removed]",
      "text/plain": [
       "<Figure size 432x288 with 1 Axes>"
      ]
     },
     "metadata": {
      "needs_background": "light"
     },
     "output_type": "display_data"
    }
   ],
   "source": [
    "plt.scatter(scores.index, scores.RMSE_train, label = 'train'  )\n",
    "plt.scatter(scores.index, scores.RMSE_test, label = 'test'  )\n",
    "plt.grid(alpha = 0.3)\n",
    "sns.despine()\n",
    "plt.legend()\n",
    "\n"
   ]
  },
  {
   "cell_type": "markdown",
   "metadata": {},
   "source": [
    "You can verify that changing the seed \n",
    "\n",
    "```np.random.seed(42)```\n",
    "\n",
    "will no longer point to another best model"
   ]
  },
  {
   "cell_type": "markdown",
   "metadata": {},
   "source": [
    "## Overfitting\n",
    "\n",
    "The best model is the model number 2,\n",
    "which corresponds to the best RMSE for train and test\n",
    "This is our most complex dataset.\n",
    "\n",
    "None of these models tend to overfit the training data.\n",
    "If one model of these models was overfitting\n",
    "we would see the testing RMSE increasing\n",
    "as the training RMSE decreases.\n",
    "\n",
    "In order to demonstrate overfitting,\n",
    "we need to consider much more complex models.\n",
    "\n",
    "So let's create the following variables\n",
    "which are powers of Wind and Temp and Solar radiation\n",
    "up to the power of 4\n"
   ]
  },
  {
   "cell_type": "code",
   "execution_count": 30,
   "metadata": {},
   "outputs": [],
   "source": [
    "df['Wind3'] = df['Wind']**3\n",
    "df['Wind4'] = df['Wind']**4\n",
    "\n",
    "df['Solar2'] = df['Solar']**2\n",
    "df['Solar3'] = df['Solar']**3\n",
    "df['Solar4'] = df['Solar']**4\n",
    "\n",
    "df['Temp3'] = df['Temp']**3\n",
    "df['Temp4'] = df['Temp']**4\n"
   ]
  },
  {
   "cell_type": "markdown",
   "metadata": {},
   "source": [
    "and let's define the following models which are more and more complex."
   ]
  },
  {
   "cell_type": "code",
   "execution_count": 31,
   "metadata": {},
   "outputs": [],
   "source": [
    "formulas = [\n",
    "    'Ozone ~ Solar',\n",
    "    'Ozone ~ Solar + Solar2',\n",
    "    'Ozone ~ Wind',\n",
    "    'Ozone ~ Wind + Wind2',\n",
    "    'Ozone ~ Temp',\n",
    "    'Ozone ~ Temp + Temp2',\n",
    "    'Ozone ~ Temp + Wind + Solar',\n",
    "    'Ozone ~ Temp + Temp2 + Wind + Wind2 + Solar + Solar2',\n",
    "    'Ozone ~ Temp + Temp2 + Temp3 + Wind + Wind2 + Wind3 + Solar + Solar2 + Solar3',\n",
    "    'Ozone ~ Temp + Temp2 + Temp3 + Temp4 + Wind + Wind2 + Wind3 + Wind4 + Solar + Solar2 + Solar3 + Solar4',\n",
    "    'Ozone ~ Temp + Temp2 + Temp3 + Temp4 + Wind + Wind2 + Wind3 + Wind4 + Solar + Solar2 + Solar3 + Solar4 + Temp * Wind + Temp * Solar + Wind * Solar',\n",
    "]\n"
   ]
  },
  {
   "cell_type": "markdown",
   "metadata": {},
   "source": [
    "we can re-use the same cross validation code as before"
   ]
  },
  {
   "cell_type": "code",
   "execution_count": 34,
   "metadata": {},
   "outputs": [
    {
     "data": {
      "text/html": [
       "<div>\n",
       "<style scoped>\n",
       "    .dataframe tbody tr th:only-of-type {\n",
       "        vertical-align: middle;\n",
       "    }\n",
       "\n",
       "    .dataframe tbody tr th {\n",
       "        vertical-align: top;\n",
       "    }\n",
       "\n",
       "    .dataframe thead th {\n",
       "        text-align: right;\n",
       "    }\n",
       "</style>\n",
       "<table border=\"1\" class=\"dataframe\">\n",
       "  <thead>\n",
       "    <tr style=\"text-align: right;\">\n",
       "      <th></th>\n",
       "      <th>model</th>\n",
       "      <th>RMSE_test</th>\n",
       "      <th>RMSE_train</th>\n",
       "    </tr>\n",
       "  </thead>\n",
       "  <tbody>\n",
       "    <tr>\n",
       "      <th>0</th>\n",
       "      <td>Ozone ~ Solar</td>\n",
       "      <td>5.914405</td>\n",
       "      <td>3.396311</td>\n",
       "    </tr>\n",
       "    <tr>\n",
       "      <th>1</th>\n",
       "      <td>Ozone ~ Solar + Solar2</td>\n",
       "      <td>5.633636</td>\n",
       "      <td>3.217071</td>\n",
       "    </tr>\n",
       "    <tr>\n",
       "      <th>2</th>\n",
       "      <td>Ozone ~ Temp</td>\n",
       "      <td>4.424026</td>\n",
       "      <td>2.588421</td>\n",
       "    </tr>\n",
       "    <tr>\n",
       "      <th>3</th>\n",
       "      <td>Ozone ~ Temp + Temp2</td>\n",
       "      <td>4.136630</td>\n",
       "      <td>2.445521</td>\n",
       "    </tr>\n",
       "    <tr>\n",
       "      <th>4</th>\n",
       "      <td>Ozone ~ Temp + Temp2 + Temp3 + Temp4 + Wind + ...</td>\n",
       "      <td>3.559855</td>\n",
       "      <td>1.791536</td>\n",
       "    </tr>\n",
       "    <tr>\n",
       "      <th>5</th>\n",
       "      <td>Ozone ~ Temp + Temp2 + Temp3 + Temp4 + Wind + ...</td>\n",
       "      <td>3.699036</td>\n",
       "      <td>1.741116</td>\n",
       "    </tr>\n",
       "    <tr>\n",
       "      <th>6</th>\n",
       "      <td>Ozone ~ Temp + Temp2 + Temp3 + Wind + Wind2 + ...</td>\n",
       "      <td>3.464913</td>\n",
       "      <td>1.842829</td>\n",
       "    </tr>\n",
       "    <tr>\n",
       "      <th>7</th>\n",
       "      <td>Ozone ~ Temp + Temp2 + Wind + Wind2 + Solar + ...</td>\n",
       "      <td>3.414256</td>\n",
       "      <td>1.925928</td>\n",
       "    </tr>\n",
       "    <tr>\n",
       "      <th>8</th>\n",
       "      <td>Ozone ~ Temp + Wind + Solar</td>\n",
       "      <td>4.021032</td>\n",
       "      <td>2.260937</td>\n",
       "    </tr>\n",
       "    <tr>\n",
       "      <th>9</th>\n",
       "      <td>Ozone ~ Wind</td>\n",
       "      <td>5.034366</td>\n",
       "      <td>2.860684</td>\n",
       "    </tr>\n",
       "    <tr>\n",
       "      <th>10</th>\n",
       "      <td>Ozone ~ Wind + Wind2</td>\n",
       "      <td>4.526605</td>\n",
       "      <td>2.543117</td>\n",
       "    </tr>\n",
       "  </tbody>\n",
       "</table>\n",
       "</div>"
      ],
      "text/plain": [
       "                                                model  RMSE_test  RMSE_train\n",
       "0                                       Ozone ~ Solar   5.914405    3.396311\n",
       "1                              Ozone ~ Solar + Solar2   5.633636    3.217071\n",
       "2                                        Ozone ~ Temp   4.424026    2.588421\n",
       "3                                Ozone ~ Temp + Temp2   4.136630    2.445521\n",
       "4   Ozone ~ Temp + Temp2 + Temp3 + Temp4 + Wind + ...   3.559855    1.791536\n",
       "5   Ozone ~ Temp + Temp2 + Temp3 + Temp4 + Wind + ...   3.699036    1.741116\n",
       "6   Ozone ~ Temp + Temp2 + Temp3 + Wind + Wind2 + ...   3.464913    1.842829\n",
       "7   Ozone ~ Temp + Temp2 + Wind + Wind2 + Solar + ...   3.414256    1.925928\n",
       "8                         Ozone ~ Temp + Wind + Solar   4.021032    2.260937\n",
       "9                                        Ozone ~ Wind   5.034366    2.860684\n",
       "10                               Ozone ~ Wind + Wind2   4.526605    2.543117"
      ]
     },
     "execution_count": 34,
     "metadata": {},
     "output_type": "execute_result"
    }
   ],
   "source": [
    "scores = []\n",
    "\n",
    "for formula in formulas:\n",
    "    for i in range(K):\n",
    "        test_index  = indexes[i]\n",
    "        train_index = [idx for idx in list(df.index) if idx not in test_index]\n",
    "        train = df.loc[df.index.isin(train_index)]\n",
    "        test  = df.loc[~df.index.isin(train_index)]\n",
    "\n",
    "        results = smf.ols(formula, train).fit()\n",
    "        yhat    = results.predict(test)\n",
    "        resid_test = yhat - test.Ozone\n",
    "\n",
    "        scores.append( {\n",
    "            'model': formula,\n",
    "            'RMSE_test':RMSE(resid_test),\n",
    "            'RMSE_train':RMSE(results.resid)\n",
    "        })\n",
    "\n",
    "scores = pd.DataFrame(scores)\n",
    "scores = scores.groupby(by = 'model').mean().reset_index()\n",
    "scores"
   ]
  },
  {
   "cell_type": "markdown",
   "metadata": {},
   "source": [
    "Let's plot the train and test RMSE for the different models\n"
   ]
  },
  {
   "cell_type": "code",
   "execution_count": 35,
   "metadata": {},
   "outputs": [
    {
     "data": {
      "text/plain": [
       "<matplotlib.legend.Legend at 0x11c993898>"
      ]
     },
     "execution_count": 35,
     "metadata": {},
     "output_type": "execute_result"
    },
    {
     "data": {
      "image/png": "[encoded data removed]",
      "text/plain": [
       "<Figure size 432x288 with 1 Axes>"
      ]
     },
     "metadata": {
      "needs_background": "light"
     },
     "output_type": "display_data"
    }
   ],
   "source": [
    "plt.scatter(scores.index, scores.RMSE_train, label = 'train'  )\n",
    "plt.scatter(scores.index, scores.RMSE_test, label = 'test'  )\n",
    "plt.grid(alpha = 0.3)\n",
    "sns.despine()\n",
    "plt.legend()\n"
   ]
  },
  {
   "cell_type": "markdown",
   "metadata": {},
   "source": [
    "we see that\n",
    "\n",
    "- model 5 has the lowest train RMSE but not the lowest **test** RMSE\n",
    "that model is **overfitting**\n",
    "\n",
    "- model 7 on the other hand has the lower test RMSE. That model would therefore be the best choice to make predictions on new unseen data.\n"
   ]
  },
  {
   "cell_type": "code",
   "execution_count": null,
   "metadata": {},
   "outputs": [],
   "source": []
  }
 ],
 "metadata": {
  "kernelspec": {
   "display_name": "Python 3",
   "language": "python",
   "name": "python3"
  },
  "language_info": {
   "codemirror_mode": {
    "name": "ipython",
    "version": 3
   },
   "file_extension": ".py",
   "mimetype": "text/x-python",
   "name": "python",
   "nbconvert_exporter": "python",
   "pygments_lexer": "ipython3",
   "version": "3.7.3"
  }
 },
 "nbformat": 4,
 "nbformat_minor": 2
}
